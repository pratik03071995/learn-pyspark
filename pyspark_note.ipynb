{
 "cells": [
  {
   "cell_type": "code",
   "execution_count": 1,
   "metadata": {},
   "outputs": [
    {
     "name": "stderr",
     "output_type": "stream",
     "text": [
      "24/02/14 12:32:00 WARN Utils: Your hostname, Pratiks-MacBook-Pro.local resolves to a loopback address: 127.0.0.1; using 10.0.0.43 instead (on interface en0)\n",
      "24/02/14 12:32:00 WARN Utils: Set SPARK_LOCAL_IP if you need to bind to another address\n",
      "Setting default log level to \"WARN\".\n",
      "To adjust logging level use sc.setLogLevel(newLevel). For SparkR, use setLogLevel(newLevel).\n",
      "24/02/14 12:32:01 WARN NativeCodeLoader: Unable to load native-hadoop library for your platform... using builtin-java classes where applicable\n"
     ]
    }
   ],
   "source": [
    "from pyspark.sql import SparkSession\n",
    "\n",
    "spark: SparkSession = SparkSession.builder \\\n",
    "    .master(\"local[1]\") \\\n",
    "    .appName(\"SparkByExamples.com\") \\\n",
    "    .getOrCreate()"
   ]
  },
  {
   "cell_type": "code",
   "execution_count": 5,
   "metadata": {},
   "outputs": [],
   "source": [
    "sc = spark.sparkContext"
   ]
  },
  {
   "cell_type": "code",
   "execution_count": null,
   "metadata": {},
   "outputs": [],
   "source": [
    "#Create RDD from parallelize    \n",
    "data = [1,2,3,4,5,6,7,8,9,10,11,12]\n",
    "rdd=spark.sparkContext.parallelize(data)"
   ]
  },
  {
   "cell_type": "code",
   "execution_count": 3,
   "metadata": {},
   "outputs": [],
   "source": [
    "#Create RDD from external Data source\n",
    "rdd2 = spark.sparkContext.textFile(\"/path/textFile.txt\")"
   ]
  },
  {
   "cell_type": "code",
   "execution_count": 4,
   "metadata": {},
   "outputs": [],
   "source": [
    "# Creates empty RDD with no partition    \n",
    "rdd = spark.sparkContext.emptyRDD \n",
    "# rddString = spark.sparkContext.emptyRDD[String]"
   ]
  },
  {
   "cell_type": "code",
   "execution_count": 5,
   "metadata": {},
   "outputs": [],
   "source": [
    "\n",
    "#Create empty RDD with partition\n",
    "rdd2 = spark.sparkContext.parallelize([],10) #This creates 10 partitions"
   ]
  },
  {
   "cell_type": "code",
   "execution_count": 6,
   "metadata": {},
   "outputs": [
    {
     "name": "stdout",
     "output_type": "stream",
     "text": [
      "Initial partition count: 10\n"
     ]
    }
   ],
   "source": [
    "sc = spark.sparkContext\n",
    "data = [1, 2, 3, 4, 5]\n",
    "rdd = sc.parallelize(data,10)  # Creating RDD\n",
    "\n",
    "print(\"Initial partition count:\", rdd.getNumPartitions())"
   ]
  },
  {
   "cell_type": "code",
   "execution_count": 7,
   "metadata": {},
   "outputs": [
    {
     "name": "stdout",
     "output_type": "stream",
     "text": [
      "re-partition count:4\n"
     ]
    }
   ],
   "source": [
    "reparRdd = rdd.repartition(4)\n",
    "print(\"re-partition count:\"+str(reparRdd.getNumPartitions()))\n",
    "#Outputs: \"re-partition count:4"
   ]
  },
  {
   "cell_type": "code",
   "execution_count": 6,
   "metadata": {},
   "outputs": [],
   "source": [
    "# Example of map\n",
    "rdd = sc.parallelize([1, 2, 3, 4])\n",
    "mapped_rdd = rdd.map(lambda x: x * 2)\n",
    "# Result: [2, 4, 6, 8]\n"
   ]
  },
  {
   "cell_type": "code",
   "execution_count": 7,
   "metadata": {},
   "outputs": [
    {
     "name": "stderr",
     "output_type": "stream",
     "text": [
      "[Stage 0:>                                                          (0 + 1) / 1]\r"
     ]
    },
    {
     "name": "stdout",
     "output_type": "stream",
     "text": [
      "filter result: [2, 4]\n"
     ]
    },
    {
     "name": "stderr",
     "output_type": "stream",
     "text": [
      "                                                                                \r"
     ]
    }
   ],
   "source": [
    "# Example of filter\n",
    "rdd_filter = sc.parallelize([1, 2, 3, 4])\n",
    "filtered_rdd = rdd_filter.filter(lambda x: x % 2 == 0)\n",
    "print(\"filter result:\", filtered_rdd.collect())  # Output: [2, 4]\n"
   ]
  },
  {
   "cell_type": "code",
   "execution_count": 8,
   "metadata": {},
   "outputs": [
    {
     "name": "stdout",
     "output_type": "stream",
     "text": [
      "flatMap result: ['Hello', 'world', 'This', 'is', 'PySpark']\n"
     ]
    }
   ],
   "source": [
    "# Example of flatMap\n",
    "rdd_flatmap = sc.parallelize([\"Hello world\", \"This is PySpark\"])\n",
    "flat_mapped_rdd = rdd_flatmap.flatMap(lambda x: x.split(\" \"))\n",
    "print(\"flatMap result:\", flat_mapped_rdd.collect())  # Output: ['Hello', 'world', 'This', 'is', 'PySpark']\n"
   ]
  },
  {
   "cell_type": "code",
   "execution_count": 9,
   "metadata": {},
   "outputs": [
    {
     "name": "stdout",
     "output_type": "stream",
     "text": [
      "mapPartitions result: [[2, 3], [4, 5]]\n"
     ]
    }
   ],
   "source": [
    "# Example of mapPartitions\n",
    "rdd_map_partitions = sc.parallelize([1, 2, 3, 4], 2)\n",
    "def add_one(iterator):\n",
    "    return map(lambda x: x + 1, iterator)\n",
    "mapped_partition_rdd = rdd_map_partitions.mapPartitions(add_one)\n",
    "print(\"mapPartitions result:\", mapped_partition_rdd.glom().collect())  # Output: [[2, 3], [4, 5]]\n"
   ]
  },
  {
   "cell_type": "code",
   "execution_count": 10,
   "metadata": {},
   "outputs": [
    {
     "name": "stdout",
     "output_type": "stream",
     "text": [
      "mapPartitionsWithIndex result: [(0, 1), (0, 2), (1, 3), (1, 4)]\n"
     ]
    }
   ],
   "source": [
    "# Example of mapPartitionsWithIndex\n",
    "rdd_map_partitions_index = sc.parallelize([1, 2, 3, 4], 2)\n",
    "def add_index(index, iterator):\n",
    "    return map(lambda x: (index, x), iterator)\n",
    "mapped_partition_index_rdd = rdd_map_partitions_index.mapPartitionsWithIndex(add_index)\n",
    "print(\"mapPartitionsWithIndex result:\", mapped_partition_index_rdd.collect())  # Output: [(0, 1), (0, 2), (1, 3), (1, 4)]\n"
   ]
  },
  {
   "cell_type": "code",
   "execution_count": null,
   "metadata": {},
   "outputs": [],
   "source": []
  },
  {
   "cell_type": "code",
   "execution_count": null,
   "metadata": {},
   "outputs": [],
   "source": []
  },
  {
   "cell_type": "code",
   "execution_count": null,
   "metadata": {},
   "outputs": [],
   "source": []
  },
  {
   "cell_type": "code",
   "execution_count": null,
   "metadata": {},
   "outputs": [],
   "source": []
  }
 ],
 "metadata": {
  "kernelspec": {
   "display_name": "Python 3",
   "language": "python",
   "name": "python3"
  },
  "language_info": {
   "codemirror_mode": {
    "name": "ipython",
    "version": 3
   },
   "file_extension": ".py",
   "mimetype": "text/x-python",
   "name": "python",
   "nbconvert_exporter": "python",
   "pygments_lexer": "ipython3",
   "version": "3.9.1"
  },
  "orig_nbformat": 4
 },
 "nbformat": 4,
 "nbformat_minor": 2
}
